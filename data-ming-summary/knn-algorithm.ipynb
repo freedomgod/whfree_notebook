{
 "cells": [
  {
   "cell_type": "code",
   "execution_count": 1,
   "id": "86c77f7e-4bbf-4e35-bccd-f6f519baa865",
   "metadata": {},
   "outputs": [],
   "source": [
    "import os\n",
    "import numpy as np\n",
    "from sklearn.neighbors import KNeighborsClassifier as KNC\n",
    "\n",
    "from IPython.core.interactiveshell import InteractiveShell\n",
    "InteractiveShell.ast_node_interactivity = \"all\""
   ]
  },
  {
   "cell_type": "code",
   "execution_count": 2,
   "id": "3e8f4d29-9cac-4961-8574-516acabf68c7",
   "metadata": {},
   "outputs": [],
   "source": [
    "# 设定数据集路径\n",
    "test_path = 'dataset/testDigits'\n",
    "train_path = 'dataset/trainingDigits'"
   ]
  },
  {
   "cell_type": "code",
   "execution_count": 16,
   "id": "b155992c-c311-4a41-b0c3-6246f52a3093",
   "metadata": {},
   "outputs": [],
   "source": [
    "# 读取和处理数据\n",
    "test_files = os.listdir(test_path)  # 列出数据集所有文件\n",
    "train_files = os.listdir(train_path)\n",
    "test_x = []\n",
    "test_y = []\n",
    "train_x = []\n",
    "train_y = []\n",
    "\n",
    "for tf in test_files:\n",
    "    with open(os.path.join(test_path, tf), 'r') as fp:\n",
    "        t = fp.read()  # 读取文件\n",
    "        t = t.replace('\\n', '')\n",
    "        t = np.array(list(t)).astype(int)  # 转换为int类型\n",
    "        test_x.append(t)\n",
    "        t_label = int(tf.split('_')[0])  # 获取数据的标签\n",
    "        test_y.append(t_label)\n",
    "test_y = np.array(test_y)\n",
    "\n",
    "for tf in train_files:\n",
    "    with open(os.path.join(train_path, tf), 'r') as fp:\n",
    "        t = fp.read()\n",
    "        t = t.replace('\\n', '')\n",
    "        t = np.array(list(t)).astype(int)\n",
    "        train_x.append(t)\n",
    "        t_label = int(tf.split('_')[0])\n",
    "        train_y.append(t_label)\n",
    "train_y = np.array(train_y)"
   ]
  },
  {
   "cell_type": "code",
   "execution_count": 17,
   "id": "0f4485a0-f72e-4519-b5ad-8f76994a16a2",
   "metadata": {},
   "outputs": [],
   "source": [
    "# 实现KNN算法核心原理\n",
    "def get_distance(X, Y, method='euclidean'):\n",
    "    \"\"\"\n",
    "    计算向量X、Y的各种距离，X与Y均为np.array数组，method为字符串，表示计算哪种距离\n",
    "    \"\"\"\n",
    "    if method == 'euclidean':  # 欧氏距离\n",
    "        return np.linalg.norm(X - Y)\n",
    "    elif method == 'cosine':  # 余弦相似度\n",
    "        return np.dot(X, Y)/(np.linalg.norm(X) * np.linalg.norm(Y))\n",
    "    elif method == 'manhattan':  # 曼哈顿距离\n",
    "        return np.sum(np.abs(X - Y))\n",
    "    elif method == 'chebyshev':  # 切比雪夫距离\n",
    "        return np.abs(X - Y).max()\n",
    "    else:\n",
    "        raise ValueError('没有此距离参数')\n",
    "\n",
    "\n",
    "def knn_algorithm(test_X, train_X, train_Y, distance='euclidean', k: int=3):\n",
    "    \"\"\"\n",
    "    输入测试数据集、训练数据集及其标签，distance为计算距离的方式，与get_distance函数里的method参数一样，k为选取最小距离样本的个数\n",
    "    \"\"\"\n",
    "    test_Y = []  # 待求测试数据集的标签\n",
    "    for tX in test_X:  # 循环测试样本\n",
    "        td  = []  # 中间变量，当前测试样本与训练集的距离数组\n",
    "        for rX in train_X:\n",
    "            td.append(get_distance(tX, rX, method=distance))  # 计算距离后加到td中间变量\n",
    "        idx = np.argpartition(np.array(td), k)[:k]  # 找出距离最小的k个样本的位置序号\n",
    "        ty = train_Y[idx]  # k个训练集样本的标签\n",
    "        test_Y.append(np.argmax(np.bincount(ty)))  # 统计这k个训练集样本的标签，多数表决，添加到test_Y末尾\n",
    "    return test_Y"
   ]
  },
  {
   "cell_type": "code",
   "execution_count": 18,
   "id": "e7c80656-2907-4d16-a504-54c365b25089",
   "metadata": {},
   "outputs": [],
   "source": [
    "# 调用knn算法，求测试数据集的标签\n",
    "predict_y1 = np.array(knn_algorithm(test_x, train_x, train_y))"
   ]
  },
  {
   "cell_type": "code",
   "execution_count": 19,
   "id": "6f99002e-5615-47b9-9cd0-d1f8b932f57e",
   "metadata": {},
   "outputs": [
    {
     "data": {
      "text/plain": [
       "('准确率', 0.9883720930232558)"
      ]
     },
     "execution_count": 19,
     "metadata": {},
     "output_type": "execute_result"
    },
    {
     "data": {
      "text/plain": [
       "('错误分类个数', 11)"
      ]
     },
     "execution_count": 19,
     "metadata": {},
     "output_type": "execute_result"
    },
    {
     "data": {
      "text/plain": [
       "('正确标签',\n",
       " array([1, 3, 5, 5, 8, 8, 8, 8, 9, 9, 9]),\n",
       " '预测的标签',\n",
       " array([7, 9, 3, 6, 6, 3, 1, 1, 1, 7, 5], dtype=int64))"
      ]
     },
     "execution_count": 19,
     "metadata": {},
     "output_type": "execute_result"
    }
   ],
   "source": [
    "# 计算准确率\n",
    "accuracy1 = np.mean(np.equal(predict_y1, test_y))  # 计算分类的准确度\n",
    "'准确率', accuracy1\n",
    "err_label_idx1 = np.where(np.equal(predict_y1, test_y) == False)[0]  # 错误分类的位置序号\n",
    "err_label_num1 = len(err_label_idx1)  # 错误分类的个数\n",
    "'错误分类个数', err_label_num1\n",
    "err_label1 = test_y[err_label_idx1]  # 错误分类的正确标签\n",
    "err_pred_label1 = predict_y1[err_label_idx1]  # 预测的标签\n",
    "'正确标签', err_label1, '预测的标签', err_pred_label1"
   ]
  },
  {
   "cell_type": "code",
   "execution_count": 20,
   "id": "c32e0809-18e1-4a86-aef3-fd775f76c2ad",
   "metadata": {},
   "outputs": [
    {
     "data": {
      "text/plain": [
       "KNeighborsClassifier(n_neighbors=3)"
      ]
     },
     "execution_count": 20,
     "metadata": {},
     "output_type": "execute_result"
    }
   ],
   "source": [
    "# 再使用sklearn的KNN分类器构建和上面一样的分类器，进行分类\n",
    "clf = KNC(n_neighbors=3)  # 构建的分类器，设定K为3\n",
    "clf.fit(train_x, train_y)  # 拟合"
   ]
  },
  {
   "cell_type": "code",
   "execution_count": 21,
   "id": "4a98d9d1-e883-4072-a4af-33f64ce8c476",
   "metadata": {},
   "outputs": [],
   "source": [
    "# 预测测试集的标签\n",
    "predict_y2 = clf.predict(test_x)"
   ]
  },
  {
   "cell_type": "code",
   "execution_count": 22,
   "id": "8cf0efe7-ec1c-4a71-a5ca-b475ad214489",
   "metadata": {},
   "outputs": [
    {
     "data": {
      "text/plain": [
       "('准确率', 0.9873150105708245)"
      ]
     },
     "execution_count": 22,
     "metadata": {},
     "output_type": "execute_result"
    },
    {
     "data": {
      "text/plain": [
       "('错误分类个数', 12)"
      ]
     },
     "execution_count": 22,
     "metadata": {},
     "output_type": "execute_result"
    },
    {
     "data": {
      "text/plain": [
       "('正确标签',\n",
       " array([1, 3, 5, 5, 8, 8, 8, 8, 8, 9, 9, 9]),\n",
       " '预测的标签',\n",
       " array([7, 9, 3, 6, 6, 3, 1, 1, 1, 1, 7, 5]))"
      ]
     },
     "execution_count": 22,
     "metadata": {},
     "output_type": "execute_result"
    }
   ],
   "source": [
    "# 计算分类器的平均准确率\n",
    "accuracy2 = clf.score(test_x, test_y)\n",
    "'准确率', accuracy2\n",
    "err_label_idx2 = np.where(np.equal(predict_y2, test_y) == False)[0]  # 错误分类的位置序号\n",
    "err_label_num2 = len(err_label_idx2)  # 错误分类的个数\n",
    "'错误分类个数', err_label_num2\n",
    "err_label2 = test_y[err_label_idx2]  # 错误分类的正确标签\n",
    "err_pred_label2 = predict_y2[err_label_idx2]  # 预测的标签\n",
    "'正确标签', err_label2, '预测的标签', err_pred_label2"
   ]
  },
  {
   "cell_type": "markdown",
   "id": "28066e27-f8e5-426f-81d0-096ab7e5a278",
   "metadata": {
    "tags": []
   },
   "source": [
    "## 总结对比\n",
    "|            | knn_algorithm | KNeighborsClassifier |\n",
    "| ---------- | ------------- | -------------------- |\n",
    "| 准确率     | 98.84         | 98.73                |\n",
    "| 误分类个数 | 11            | 12                   |"
   ]
  }
 ],
 "metadata": {
  "kernelspec": {
   "display_name": "Python 3 (ipykernel)",
   "language": "python",
   "name": "python3"
  },
  "language_info": {
   "codemirror_mode": {
    "name": "ipython",
    "version": 3
   },
   "file_extension": ".py",
   "mimetype": "text/x-python",
   "name": "python",
   "nbconvert_exporter": "python",
   "pygments_lexer": "ipython3",
   "version": "3.10.2"
  }
 },
 "nbformat": 4,
 "nbformat_minor": 5
}
